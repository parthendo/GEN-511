{
 "cells": [
  {
   "cell_type": "code",
   "execution_count": 7,
   "metadata": {},
   "outputs": [
    {
     "ename": "ImportError",
     "evalue": "cannot import name 'linear'",
     "output_type": "error",
     "traceback": [
      "\u001b[0;31m---------------------------------------------------------------------------\u001b[0m",
      "\u001b[0;31mImportError\u001b[0m                               Traceback (most recent call last)",
      "\u001b[0;32m<ipython-input-7-ee1e294ecc57>\u001b[0m in \u001b[0;36m<module>\u001b[0;34m\u001b[0m\n\u001b[1;32m      4\u001b[0m \u001b[0;32mfrom\u001b[0m \u001b[0msklearn\u001b[0m\u001b[0;34m.\u001b[0m\u001b[0mmodel_selection\u001b[0m \u001b[0;32mimport\u001b[0m \u001b[0mtrain_test_split\u001b[0m\u001b[0;34m\u001b[0m\u001b[0;34m\u001b[0m\u001b[0m\n\u001b[1;32m      5\u001b[0m \u001b[0;32mfrom\u001b[0m \u001b[0msklearn\u001b[0m \u001b[0;32mimport\u001b[0m \u001b[0mpreprocessing\u001b[0m\u001b[0;34m\u001b[0m\u001b[0;34m\u001b[0m\u001b[0m\n\u001b[0;32m----> 6\u001b[0;31m \u001b[0;32mfrom\u001b[0m \u001b[0msklearn\u001b[0m\u001b[0;34m.\u001b[0m\u001b[0mgaussian_process\u001b[0m\u001b[0;34m.\u001b[0m\u001b[0mkernels\u001b[0m \u001b[0;32mimport\u001b[0m \u001b[0mlinear\u001b[0m\u001b[0;34m\u001b[0m\u001b[0;34m\u001b[0m\u001b[0m\n\u001b[0m",
      "\u001b[0;31mImportError\u001b[0m: cannot import name 'linear'"
     ]
    }
   ],
   "source": [
    "import pandas as pd\n",
    "import numpy as np\n",
    "from sklearn import svm\n",
    "from sklearn.model_selection import train_test_split\n",
    "from sklearn import preprocessing\n",
    "from sklearn.gaussian_process.kernels import RBF"
   ]
  },
  {
   "cell_type": "code",
   "execution_count": 2,
   "metadata": {},
   "outputs": [],
   "source": [
    "data = pd.read_csv(\"diabetes.csv\")\n",
    "# set negative values to zero\n",
    "data[data<0] = 0\n",
    "category = [\"Pregnancies\",\"Glucose\",\"BloodPressure\",\"SkinThickness\",\"Insulin\",\"BMI\",\"DiabetesPedigreeFunction\",\"Age\",\"Outcome\"]"
   ]
  },
  {
   "cell_type": "code",
   "execution_count": 3,
   "metadata": {},
   "outputs": [
    {
     "name": "stdout",
     "output_type": "stream",
     "text": [
      "Pregnancies                 111\n",
      "Glucose                       5\n",
      "BloodPressure                35\n",
      "SkinThickness               227\n",
      "Insulin                     374\n",
      "BMI                          11\n",
      "DiabetesPedigreeFunction      0\n",
      "Age                           0\n",
      "Outcome                       0\n",
      "dtype: int64\n"
     ]
    }
   ],
   "source": [
    "# Removing all the rows having any of the null values or numeric value 0\n",
    "\n",
    "# As non-diabetic class had value 0, replace it with 2 to reduce confusion\n",
    "data[\"Outcome\"] = data[\"Outcome\"].replace(to_replace = 0, value = 2)  \n",
    "# Replace all the cells having 0 with NaN\n",
    "data = data.replace(to_replace = 0, value = np.nan) \n",
    "print(data.isnull().sum())\n",
    "# Drop rows having any null value\n",
    "data.dropna(axis=0, how='any', thresh=None, subset=None, inplace=True)"
   ]
  },
  {
   "cell_type": "raw",
   "metadata": {},
   "source": []
  },
  {
   "cell_type": "code",
   "execution_count": 9,
   "metadata": {},
   "outputs": [
    {
     "name": "stdout",
     "output_type": "stream",
     "text": [
      "74.45887445887446\n"
     ]
    }
   ],
   "source": [
    "#NTS: Plot the new data on the graph ****************\n",
    "# Training a model after removing null values\n",
    "values = data.values\n",
    "# Data\n",
    "X = values[:,0:8]\n",
    "# Labels\n",
    "Y = values[:,8]\n",
    "# Splitting data in test and training set\n",
    "X_train,X_test,Y_train,Y_test = train_test_split(X,Y,test_size=0.3,stratify=Y,random_state=0)\n",
    "X_train = preprocessing.scale(X_train)\n",
    "X_test = preprocessing.scale(X_test)\n",
    "# Training the SVM model\n",
    "sVm = svm.SVC(gamma=2,C=0.01,decision_function_shape='ovo',kernel='linear')\n",
    "sVm.fit(X_train,Y_train)\n",
    "pred = sVm.predict(X_test)\n",
    "count = 0\n",
    "for i in range(len(Y_test)):\n",
    "    if(Y_test[i] == pred[i]):\n",
    "        count = count + 1\n",
    "print(float(count)/len(Y_test)*100)\n",
    "\n",
    "# Accuracy acheived after eliminating null value rows is: 67.41573033707866% when kernel is RBF\n",
    "# Accuracy acheived after eliminating null value rows is: 74.45887445887446% when kernel is RBF"
   ]
  },
  {
   "cell_type": "code",
   "execution_count": 49,
   "metadata": {},
   "outputs": [],
   "source": [
    "# Replace null value with mean a.k.a imputation\n",
    "# 1. Fill with mean\n",
    "# 2. Take the minimum and maximum of the range and fill with a random value in that range\n",
    "\n",
    "# Re-initializing dataframe with replacing 0s with NaN\n",
    "data = pd.read_csv(\"Pima_Indian_diabetes.csv\")\n",
    "data[data<0] = 0\n",
    "category = [\"Pregnancies\",\"Glucose\",\"BloodPressure\",\"SkinThickness\",\"Insulin\",\"BMI\",\"DiabetesPedigreeFunction\",\"Age\",\"Outcome\"]\n",
    "data[\"Outcome\"] = data[\"Outcome\"].replace(to_replace = 0, value = 2)  \n",
    "data = data.replace(to_replace = 0, value = np.nan) "
   ]
  },
  {
   "cell_type": "code",
   "execution_count": 50,
   "metadata": {},
   "outputs": [
    {
     "name": "stdout",
     "output_type": "stream",
     "text": [
      "4.555573097711225\n",
      "120.76908341712824\n",
      "72.18507385120809\n",
      "28.87415246674118\n",
      "155.54822335025383\n",
      "32.359164425780456\n",
      "0.47187630208333325\n",
      "33.76133595599271\n"
     ]
    }
   ],
   "source": [
    "# 1. Replace NaN with mean\n",
    "for i in range(0,8):\n",
    "    data[category[i]] = data[category[i]].replace(to_replace = np.nan, value = data[category[i]].mean())\n",
    "    print(data[category[i]].mean())"
   ]
  },
  {
   "cell_type": "code",
   "execution_count": 33,
   "metadata": {},
   "outputs": [
    {
     "name": "stdout",
     "output_type": "stream",
     "text": [
      "75.32467532467533\n"
     ]
    }
   ],
   "source": [
    "# REMEMBER TO PLOT THE DATA\n",
    "# Training model over imputed data\n",
    "values = data.values\n",
    "# Data\n",
    "X = values[:,0:8]\n",
    "# Labels\n",
    "Y = values[:,8]\n",
    "# Splitting data in test and training set\n",
    "X_train,X_test,Y_train,Y_test = train_test_split(X,Y,test_size=0.3,stratify=Y,random_state=0)\n",
    "X_train = preprocessing.scale(X_train)\n",
    "X_test = preprocessing.scale(X_test)\n",
    "# Training the SVM model\n",
    "sVm = svm.SVC(gamma=4,C=0.1,decision_function_shape='ovo',kernel='linear')\n",
    "sVm.fit(X_train,Y_train)\n",
    "pred = sVm.predict(X_test)\n",
    "count = 0\n",
    "for i in range(len(Y_test)):\n",
    "    if(Y_test[i] == pred[i]):\n",
    "        count = count + 1\n",
    "print(float(count)/len(Y_test)*100)\n",
    "\n",
    "# Accuracy acheived after eliminating null value rows is: 64.93506493506493% when kernel is RBF\n",
    "# Accuracy acheived after eliminating null value rows is: 77.48917748917748% when kernel is linear and null values replaced by max value\n",
    "# Accuracy acheived after eliminating null value rows is: 74.89177489177489% when kernel is linear and null values replaced by min value\n",
    "# Accuracy acheived after eliminating null value rows is: 75.32467532467533% when kernel is linear and null values replaced by mean value"
   ]
  },
  {
   "cell_type": "code",
   "execution_count": 62,
   "metadata": {},
   "outputs": [
    {
     "name": "stdout",
     "output_type": "stream",
     "text": [
      "77.92207792207793\n"
     ]
    }
   ],
   "source": [
    "from sklearn.decomposition import PCA\n",
    "values = data.values\n",
    "Y = values[:,8]\n",
    "X = values[:,0:8]\n",
    "pca = PCA(n_components=6)\n",
    "X = pca.fit_transform(X)\n",
    "X_train,X_test,Y_train,Y_test = train_test_split(X,Y,test_size=0.3,stratify=Y,random_state=0)\n",
    "X_train = preprocessing.scale(X_train)\n",
    "X_test = preprocessing.scale(X_test)\n",
    "# Training the SVM model\n",
    "sVm = svm.SVC(gamma=4,C=0.1,decision_function_shape='ovo',kernel='linear')\n",
    "sVm.fit(X_train,Y_train)\n",
    "pred = sVm.predict(X_test)\n",
    "count = 0\n",
    "for i in range(len(Y_test)):\n",
    "    if(Y_test[i] == pred[i]):\n",
    "        count = count + 1\n",
    "print(float(count)/len(Y_test)*100)"
   ]
  },
  {
   "cell_type": "code",
   "execution_count": 69,
   "metadata": {},
   "outputs": [
    {
     "name": "stdout",
     "output_type": "stream",
     "text": [
      "78.35497835497836\n"
     ]
    },
    {
     "name": "stderr",
     "output_type": "stream",
     "text": [
      "/home/markus/.local/lib/python3.6/site-packages/sklearn/neural_network/multilayer_perceptron.py:566: ConvergenceWarning: Stochastic Optimizer: Maximum iterations (200) reached and the optimization hasn't converged yet.\n",
      "  % self.max_iter, ConvergenceWarning)\n"
     ]
    }
   ],
   "source": [
    "from sklearn.neural_network import MLPClassifier\n",
    "from sklearn.naive_bayes import MultinomialNB,GaussianNB\n",
    "MLP=MLPClassifier(activation=\"relu\n",
    "                  \",alpha=1e-05,momentum=0.5)\n",
    "MLP.fit(X_train,Y_train)\n",
    "pred=MLP.predict(X_test)\n",
    "count = 0\n",
    "for i in range(len(Y_test)):\n",
    "    if(Y_test[i] == pred[i]):\n",
    "        count = count + 1\n",
    "print(float(count)/len(Y_test)*100)"
   ]
  },
  {
   "cell_type": "code",
   "execution_count": null,
   "metadata": {},
   "outputs": [],
   "source": []
  }
 ],
 "metadata": {
  "kernelspec": {
   "display_name": "Python 3",
   "language": "python",
   "name": "python3"
  },
  "language_info": {
   "codemirror_mode": {
    "name": "ipython",
    "version": 3
   },
   "file_extension": ".py",
   "mimetype": "text/x-python",
   "name": "python",
   "nbconvert_exporter": "python",
   "pygments_lexer": "ipython3",
   "version": "3.6.8"
  }
 },
 "nbformat": 4,
 "nbformat_minor": 2
}
