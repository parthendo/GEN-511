{
 "cells": [
  {
   "cell_type": "code",
   "execution_count": 19,
   "metadata": {},
   "outputs": [],
   "source": [
    "import pandas as pd\n",
    "import numpy as np\n",
    "from sklearn import svm\n",
    "from sklearn.model_selection import train_test_split\n",
    "from sklearn import preprocessing\n",
    "from sklearn.gaussian_process.kernels import RBF"
   ]
  },
  {
   "cell_type": "code",
   "execution_count": 7,
   "metadata": {},
   "outputs": [],
   "source": [
    "data = pd.read_csv(\"diabetes.csv\")\n",
    "category = [\"Pregnancies\",\"Glucose\",\"BloodPressure\",\"SkinThickness\",\"Insulin\",\"BMI\",\"DiabetesPedigreeFunction\",\"Age\",\"Outcome\"]"
   ]
  },
  {
   "cell_type": "code",
   "execution_count": 8,
   "metadata": {},
   "outputs": [
    {
     "name": "stdout",
     "output_type": "stream",
     "text": [
      "Pregnancies                 111\n",
      "Glucose                       5\n",
      "BloodPressure                35\n",
      "SkinThickness               227\n",
      "Insulin                     374\n",
      "BMI                          11\n",
      "DiabetesPedigreeFunction      0\n",
      "Age                           0\n",
      "Outcome                       0\n",
      "dtype: int64\n"
     ]
    }
   ],
   "source": [
    "# Removing all the rows having any of the null values or numeric value 0\n",
    "\n",
    "# As non-diabetic class had value 0, replace it with 2 to reduce confusion\n",
    "data[\"Outcome\"] = data[\"Outcome\"].replace(to_replace = 0, value = 2)  \n",
    "# Replace all the cells having 0 with NaN\n",
    "data = data.replace(to_replace = 0, value = np.nan) \n",
    "print(data.isnull().sum())\n",
    "# Drop rows having any null value\n",
    "data.dropna(axis=0, how='any', thresh=None, subset=None, inplace=True)"
   ]
  },
  {
   "cell_type": "raw",
   "metadata": {},
   "source": []
  },
  {
   "cell_type": "code",
   "execution_count": 9,
   "metadata": {},
   "outputs": [
    {
     "name": "stdout",
     "output_type": "stream",
     "text": [
      "67.32673267326733\n"
     ]
    }
   ],
   "source": [
    "#NTS: Plot the new data on the graph ****************\n",
    "# Training a model after removing null values\n",
    "values = data.values\n",
    "# Data\n",
    "X = values[:,0:8]\n",
    "# Labels\n",
    "Y = values[:,8]\n",
    "# Splitting data in test and training set\n",
    "X_train,X_test,Y_train,Y_test = train_test_split(X,Y,test_size=0.3,stratify=Y,random_state=0)\n",
    "X_train = preprocessing.scale(X_train)\n",
    "X_test = preprocessing.scale(X_test)\n",
    "# Training the SVM model\n",
    "sVm = svm.SVC(gamma=2,C=0.01,decision_function_shape='ovo',kernel='rbf')\n",
    "sVm.fit(X_train,Y_train)\n",
    "pred = sVm.predict(X_test)\n",
    "count = 0\n",
    "for i in range(len(Y_test)):\n",
    "    if(Y_test[i] == pred[i]):\n",
    "        count = count + 1\n",
    "print(float(count)/len(Y_test)*100)\n",
    "\n",
    "# Accuracy acheived after eliminating null value rows is: 67.41573033707866%"
   ]
  },
  {
   "cell_type": "code",
   "execution_count": 20,
   "metadata": {},
   "outputs": [],
   "source": [
    "# Replace null value with mean a.k.a imputation\n",
    "# 1. Fill with mean\n",
    "# 2. Take the minimum and maximum of the range and fill with a random value in that range\n",
    "\n",
    "# Re-initializing dataframe with replacing 0s with NaN\n",
    "data = pd.read_csv(\"Pima_Indian_diabetes.csv\")\n",
    "category = [\"Pregnancies\",\"Glucose\",\"BloodPressure\",\"SkinThickness\",\"Insulin\",\"BMI\",\"DiabetesPedigreeFunction\",\"Age\",\"Outcome\"]\n",
    "data[\"Outcome\"] = data[\"Outcome\"].replace(to_replace = 0, value = 2)  \n",
    "data = data.replace(to_replace = 0, value = np.nan) "
   ]
  },
  {
   "cell_type": "code",
   "execution_count": 21,
   "metadata": {},
   "outputs": [
    {
     "name": "stdout",
     "output_type": "stream",
     "text": [
      "-5.412814748463648\n",
      "42.9747683109225\n",
      "-3.49645479038386\n",
      "-11.945519545470749\n",
      "14.0\n",
      "-16.288921035415193\n",
      "0.078\n",
      "21.0\n"
     ]
    }
   ],
   "source": [
    "# 1. Replace NaN with mean\n",
    "for i in range(0,8):\n",
    "    data[category[i]] = data[category[i]].replace(to_replace = np.nan, value = data[category[i]].min())\n",
    "    print(data[category[i]].min())"
   ]
  },
  {
   "cell_type": "code",
   "execution_count": 22,
   "metadata": {},
   "outputs": [
    {
     "name": "stdout",
     "output_type": "stream",
     "text": [
      "64.93506493506493\n"
     ]
    }
   ],
   "source": [
    "# REMEMBER TO PLOT THE DATA\n",
    "# Training model over imputed data\n",
    "values = data.values\n",
    "# Data\n",
    "X = values[:,0:8]\n",
    "# Labels\n",
    "Y = values[:,8]\n",
    "# Splitting data in test and training set\n",
    "X_train,X_test,Y_train,Y_test = train_test_split(X,Y,test_size=0.3,stratify=Y,random_state=0)\n",
    "X_train = preprocessing.scale(X_train)\n",
    "X_test = preprocessing.scale(X_test)\n",
    "# Training the SVM model\n",
    "sVm = svm.SVC(gamma=2,C=0.01,decision_function_shape='ovo',kernel='rbf')\n",
    "sVm.fit(X_train,Y_train)\n",
    "pred = sVm.predict(X_test)\n",
    "count = 0\n",
    "for i in range(len(Y_test)):\n",
    "    if(Y_test[i] == pred[i]):\n",
    "        count = count + 1\n",
    "print(float(count)/len(Y_test)*100)\n",
    "\n",
    "# Accuracy acheived after eliminating null value rows is: 64.93506493506493%"
   ]
  },
  {
   "cell_type": "code",
   "execution_count": null,
   "metadata": {},
   "outputs": [],
   "source": []
  }
 ],
 "metadata": {
  "kernelspec": {
   "display_name": "Python 3",
   "language": "python",
   "name": "python3"
  },
  "language_info": {
   "codemirror_mode": {
    "name": "ipython",
    "version": 3
   },
   "file_extension": ".py",
   "mimetype": "text/x-python",
   "name": "python",
   "nbconvert_exporter": "python",
   "pygments_lexer": "ipython3",
   "version": "3.6.8"
  }
 },
 "nbformat": 4,
 "nbformat_minor": 2
}
