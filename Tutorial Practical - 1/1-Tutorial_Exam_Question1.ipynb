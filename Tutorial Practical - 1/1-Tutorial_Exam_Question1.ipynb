{
 "cells": [
  {
   "cell_type": "markdown",
   "metadata": {},
   "source": [
    "### Instructions:\n",
    "\n",
    "    1. Submit your python notebooks in zip format with naming convention as:\n",
    "        \n",
    "            RollNo1_RollNo2_RollNo3.zip\n",
    "            \n",
    "    2. Cheating of any form will not be tolerated."
   ]
  },
  {
   "cell_type": "markdown",
   "metadata": {},
   "source": [
    "Fill your Team details here.<br>\n",
    "<br>\n",
    "Format: Roll Number\n",
    " \n",
    "     1. MT2019065\n",
    "     2. MT2019026\n",
    "     3. MT2019074"
   ]
  },
  {
   "cell_type": "markdown",
   "metadata": {},
   "source": [
    "# Problem statement is to predict price column based on data with 24 Columns with over 200 data entries using Linear Regression."
   ]
  },
  {
   "cell_type": "code",
   "execution_count": null,
   "metadata": {},
   "outputs": [],
   "source": [
    "#import required libraries\n",
    "import pandas as pd\n",
    "import numpy as np\n",
    "import seaborn as sns\n",
    "from sklearn.preprocessing import StandardScaler\n",
    "from sklearn.preprocessing import OneHotEncoder"
   ]
  },
  {
   "cell_type": "code",
   "execution_count": null,
   "metadata": {},
   "outputs": [],
   "source": [
    "#Read data(\"Data.csv\") into dataframe\n",
    "\n",
    "#read df in X\n",
    "data = pd.read_csv(\"Data.csv\")\n",
    "Y = data[[\"price\"]]\n",
    "X = data\n",
    "del(X[\"price\"])\n",
    "category = [\"wheelbase\",\"carlength\",\"carwidth\",\"carheight\",\"enginesize\",\"stroke\",\"boreratio\",\"price\"]"
   ]
  },
  {
   "cell_type": "code",
   "execution_count": null,
   "metadata": {},
   "outputs": [],
   "source": [
    "#Check for null values in X and Y\n",
    "X.info()\n",
    "print(X.isnull().sum())\n",
    "print(Y.isnull().sum())\n",
    "#what did you observe?\n",
    "#ans:- NO NULL VALUES FOUND!"
   ]
  },
  {
   "cell_type": "code",
   "execution_count": null,
   "metadata": {},
   "outputs": [],
   "source": [
    "#Check if scaling and encoding are required in X\n",
    "X\n",
    "X.describe()\n",
    "#is it required or not?\n",
    "#ans:- We printed the dataframe X along with its description. Several cells had object entries, thus encoding it \n",
    "# required. Along side, we displayed the description of the dataset and found high difference in the values of the \n",
    "# column. Thus, Encoding and Scaling are required!"
   ]
  },
  {
   "cell_type": "code",
   "execution_count": null,
   "metadata": {},
   "outputs": [],
   "source": [
    "#Plot relationships between the target variable and any 7 features using pair plot,scatter plot,matrix heatmap\n",
    "\n",
    "data = pd.read_csv(\"Data.csv\")\n",
    "# SELECTING 7 FEATURES\n",
    "temp = data[[category[0],category[1],category[2],category[3],category[4],category[5],category[6],category[7]]]\n",
    "\n",
    "\n",
    "# SNIPPET FOR PAIR PLOT\n",
    "g = sns.pairplot(temp, palette=\"husl\")"
   ]
  },
  {
   "cell_type": "code",
   "execution_count": null,
   "metadata": {},
   "outputs": [],
   "source": [
    "# HEAT MAP SNIPPET\n",
    "corr = temp.corr()\n",
    "ax = sns.heatmap(\n",
    "    corr, \n",
    "    vmin=-1, vmax=1, center=0,\n",
    "    cmap=sns.diverging_palette(20, 220, n=200),\n",
    "    square=True\n",
    ")\n",
    "ax.set_xticklabels(\n",
    "    ax.get_xticklabels(),\n",
    "    rotation=45,\n",
    "    horizontalalignment='right'\n",
    ");\n",
    "\n",
    "#What did you observe?\n",
    "#ans:- In the seven columns selected, as described in cell 2, the price of the car is highly correlated with\n",
    "# attributes like engine size, length and width of the car."
   ]
  },
  {
   "cell_type": "code",
   "execution_count": null,
   "metadata": {},
   "outputs": [],
   "source": [
    "cleanup_nums = {\"doornumber\":     {\"four\": 4, \"two\": 2},\n",
    "                \"cylindernumber\": {\"four\": 4, \"six\": 6, \"five\": 5, \"eight\": 8,\n",
    "                                  \"two\": 2, \"twelve\": 12, \"three\":3 }}\n",
    "X.replace(cleanup_nums, inplace=True)\n",
    "\n",
    "\n",
    "Cat=X.select_dtypes(include=['object']).copy(deep='False')\n",
    "\n",
    "\n",
    "Cat=Cat.iloc[:, :].apply(pd.Series)\n",
    "Name=Cat.CarName.copy()\n",
    "\n",
    "\n",
    "Temp=[]\n",
    "Temp=Name.str.split(pat=\" \",expand=True)\n",
    "Temp=Temp[0]\n",
    "X.CarName=Temp\n",
    "Cat.CarName=Temp\n",
    "\n",
    "\n",
    "cleanup_nums = {\"CarName\":     { \"maxda\": \"mazda\" , \"porcshce\": \"porsche\" , \"Nissan\":\"nissan\" , \"vokswagen\":\"volkswagen\", \"toyouta\" : \"toyota\",\"vw\" : \"volkswagen\"} }\n",
    "X.replace(cleanup_nums, inplace=True)"
   ]
  },
  {
   "cell_type": "code",
   "execution_count": null,
   "metadata": {},
   "outputs": [],
   "source": [
    "#check if One hot encoding is required? if yes do it.\n",
    "onehotencoder = OneHotEncoder()\n",
    "temp = onehotencoder.fit_transform(X).toarray()"
   ]
  },
  {
   "cell_type": "code",
   "execution_count": null,
   "metadata": {},
   "outputs": [],
   "source": [
    "temp"
   ]
  },
  {
   "cell_type": "code",
   "execution_count": null,
   "metadata": {},
   "outputs": [],
   "source": [
    "#Scale the Dataset\n",
    "scaler = StandardScaler().fit_transform(X)\n"
   ]
  },
  {
   "cell_type": "code",
   "execution_count": null,
   "metadata": {},
   "outputs": [],
   "source": [
    "#Splitting data into test and train - 30% Test and 70% Train\n",
    "X_train, X_test, y_train, y_test = train_test_split(X,y,test_size=0.3)\n",
    "X_train = X_train.values\n",
    "y_train = y_train.values\n",
    "\n",
    "X_test =  X_test.values\n",
    "y_test =  y_test.values"
   ]
  },
  {
   "cell_type": "code",
   "execution_count": null,
   "metadata": {},
   "outputs": [],
   "source": [
    "#Find correlation coeff using linear regression.\n"
   ]
  },
  {
   "cell_type": "code",
   "execution_count": null,
   "metadata": {},
   "outputs": [],
   "source": [
    "# Print The coefficients\n",
    "\n",
    "#What did you observe looking at the coeffients, Describe your observation in atleast 30 words?\n",
    "#ans:- The coefficients were"
   ]
  },
  {
   "cell_type": "code",
   "execution_count": null,
   "metadata": {},
   "outputs": [],
   "source": []
  }
 ],
 "metadata": {
  "kernelspec": {
   "display_name": "Python 3",
   "language": "python",
   "name": "python3"
  },
  "language_info": {
   "codemirror_mode": {
    "name": "ipython",
    "version": 3
   },
   "file_extension": ".py",
   "mimetype": "text/x-python",
   "name": "python",
   "nbconvert_exporter": "python",
   "pygments_lexer": "ipython3",
   "version": "3.6.8"
  }
 },
 "nbformat": 4,
 "nbformat_minor": 2
}
